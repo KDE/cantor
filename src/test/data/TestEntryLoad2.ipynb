{
    "cells": [
        {
            "cell_type": "code",
            "execution_count": 0,
            "metadata": {
            },
            "outputs": [
                {
                    "name": "stdout",
                    "output_type": "stream",
                    "text": [
                        "ans =  4\n"
                    ]
                }
            ],
            "source": "2+2"
        },
        {
            "cell_type": "markdown",
            "metadata": {
                "cantor": {
                    "text_entry_content": "<html><head><meta name=\"qrichtext\" content=\"1\" /><style type=\"text/css\">\np, li { white-space: pre-wrap; }\n</style></head><body style=\" font-family:'monospace'; font-size:12pt; font-weight:400; font-style:normal;\">\n<p style=\" margin-top:0px; margin-bottom:0px; margin-left:0px; margin-right:0px; -qt-block-indent:0; text-indent:0px;\">Text entry</p></body></html>"
                }
            },
            "source": [
                "<html><head><meta name=\"qrichtext\" content=\"1\" /><style type=\"text/css\">\n",
                "p, li { white-space: pre-wrap; }\n",
                "</style></head><body style=\" font-family:'monospace'; font-size:12pt; font-weight:400; font-style:normal;\">\n",
                "<p style=\" margin-top:0px; margin-bottom:0px; margin-left:0px; margin-right:0px; -qt-block-indent:0; text-indent:0px;\">Text entry</p></body></html>"
            ]
        },
        {
            "cell_type": "markdown",
            "metadata": {
            },
            "source": "#### Markdown entry"
        },
        {
            "cell_type": "code",
            "execution_count": null,
            "metadata": {
                "cantor": {
                    "latex_entry": true
                }
            },
            "outputs": [
                {
                    "data": {
                        "image/png": "[encoded data removed]"
                    },
                    "metadata": {
                    },
                    "output_type": "display_data"
                }
            ],
            "source": [
                "%%latex\n",
                "\\LaTeX\\ entry"
            ]
        }
    ],
    "metadata": {
        "kernelspec": {
            "display_name": "Python 3",
            "language": "python",
            "name": "python3"
        }
    },
    "nbformat": 4,
    "nbformat_minor": 1
}
